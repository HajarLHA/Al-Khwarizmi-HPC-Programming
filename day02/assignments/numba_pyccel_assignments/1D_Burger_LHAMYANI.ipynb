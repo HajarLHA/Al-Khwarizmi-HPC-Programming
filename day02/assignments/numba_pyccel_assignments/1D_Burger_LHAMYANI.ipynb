{
  "cells": [
    {
      "cell_type": "markdown",
      "metadata": {
        "id": "KeJeQp4QBknW"
      },
      "source": [
        "## Imports"
      ]
    },
    {
      "cell_type": "code",
      "source": [
        "pip install pyccel"
      ],
      "metadata": {
        "colab": {
          "base_uri": "https://localhost:8080/"
        },
        "id": "EtAw-s_VBrtm",
        "outputId": "85df60c8-043b-441b-c2a3-b873b0cafa7f"
      },
      "execution_count": 25,
      "outputs": [
        {
          "output_type": "stream",
          "name": "stdout",
          "text": [
            "Looking in indexes: https://pypi.org/simple, https://us-python.pkg.dev/colab-wheels/public/simple/\n",
            "Requirement already satisfied: pyccel in /usr/local/lib/python3.7/dist-packages (1.5.2)\n",
            "Requirement already satisfied: textx>=2.2 in /usr/local/lib/python3.7/dist-packages (from pyccel) (3.0.0)\n",
            "Requirement already satisfied: termcolor in /usr/local/lib/python3.7/dist-packages (from pyccel) (1.1.0)\n",
            "Requirement already satisfied: numpy in /usr/local/lib/python3.7/dist-packages (from pyccel) (1.21.6)\n",
            "Requirement already satisfied: filelock in /usr/local/lib/python3.7/dist-packages (from pyccel) (3.7.1)\n",
            "Requirement already satisfied: sympy>=1.2 in /usr/local/lib/python3.7/dist-packages (from pyccel) (1.7.1)\n",
            "Requirement already satisfied: mpmath>=0.19 in /usr/local/lib/python3.7/dist-packages (from sympy>=1.2->pyccel) (1.2.1)\n",
            "Requirement already satisfied: future in /usr/local/lib/python3.7/dist-packages (from textx>=2.2->pyccel) (0.16.0)\n",
            "Requirement already satisfied: Arpeggio>=2.0.0 in /usr/local/lib/python3.7/dist-packages (from textx>=2.2->pyccel) (2.0.0)\n"
          ]
        }
      ]
    },
    {
      "cell_type": "code",
      "execution_count": 26,
      "metadata": {
        "id": "XwMIJclpBknr"
      },
      "outputs": [],
      "source": [
        "import numpy as np\n",
        "import sympy as sp\n",
        "from sympy.utilities.lambdify import lambdify\n",
        "import matplotlib.pyplot as plt\n",
        "import time\n",
        "from numba import njit\n",
        "from pyccel.epyccel import epyccel\n",
        "from pyccel.decorators import types\n",
        "\n",
        "from sympy import init_printing\n",
        "init_printing(use_latex=True)"
      ]
    },
    {
      "cell_type": "markdown",
      "metadata": {
        "id": "lZOpTt3xBkn5"
      },
      "source": [
        "## Pure python function"
      ]
    },
    {
      "cell_type": "code",
      "execution_count": 27,
      "metadata": {
        "id": "dWaWOLKEBkn7"
      },
      "outputs": [],
      "source": [
        "def solve_1d_burger_pure(u, un, nt, nx, dt, dx, nu):\n",
        "    for n in range(nt):\n",
        "      u[0] = un[0] - un[0] * dt / dx * (un[0] - un[-2]) + nu * dt / dx**2 *\\\n",
        "                    (un[1] - 2 * un[0] + un[-2])\n",
        "      u[-1] = u[0]\n",
        "      for i in range(nx): un[i] = u[i]\n",
        "      for i in range(1, nx-1):\n",
        "        u[i] = un[i] - un[i] * dt / dx *(un[i] - un[i-1]) + nu * dt / dx**2 *\\\n",
        "                    (un[i+1] - 2 * un[i] + un[i-1])\n",
        "        \n",
        "    return 0"
      ]
    },
    {
      "cell_type": "markdown",
      "metadata": {
        "id": "4fT_TDN1BkoA"
      },
      "source": [
        "## Numba accelerator"
      ]
    },
    {
      "cell_type": "code",
      "execution_count": 28,
      "metadata": {
        "id": "IT2g9yAJBkoD"
      },
      "outputs": [],
      "source": [
        "@njit(fastmath=True)\n",
        "def solve_1d_burger_numba(u, un, nt, nx, dt, dx, nu):\n",
        "    \n",
        "    for n in range(nt):\n",
        "      u[0] = un[0] - un[0] * dt / dx * (un[0] - un[-2]) + nu * dt / dx**2 *\\\n",
        "                    (un[1] - 2 * un[0] + un[-2])\n",
        "      u[-1] = u[0]\n",
        "      for i in range(nx): un[i] = u[i]\n",
        "      for i in range(1, nx-1):\n",
        "            u[i] = un[i] - un[i] * dt / dx *(un[i] - un[i-1]) + nu * dt / dx**2 *\\\n",
        "                    (un[i+1] - 2 * un[i] + un[i-1])\n",
        "        \n",
        "    return 0"
      ]
    },
    {
      "cell_type": "markdown",
      "metadata": {
        "id": "xy3saaZ2BkoH"
      },
      "source": [
        "## Pyccel accelerator"
      ]
    },
    {
      "cell_type": "code",
      "execution_count": 29,
      "metadata": {
        "id": "T8GPdLeBBkoK"
      },
      "outputs": [],
      "source": [
        "@types('float[:]','float[:]', 'int', 'int', 'float', 'float', 'float')\n",
        "def solve_1d_burger_pyccel(u, un, nt, nx, dt, dx, nu):\n",
        "    \n",
        "    for n in range(nt):\n",
        "      u[0] = un[0] - un[0] * dt / dx * (un[0] - un[-2]) + nu * dt / dx**2 *\\\n",
        "                    (un[1] - 2 * un[0] + un[-2])\n",
        "      u[-1] = u[0]\n",
        "      for i in range(nx): un[i] = u[i]\n",
        "      for i in range(1, nx-1):\n",
        "            u[i] = un[i] - un[i] * dt / dx *(un[i] - un[i-1]) + nu * dt / dx**2 *\\\n",
        "                    (un[i+1] - 2 * un[i] + un[i-1])\n",
        "        \n",
        "        \n",
        "        \n",
        "    return 0"
      ]
    },
    {
      "cell_type": "markdown",
      "metadata": {
        "id": "MWAT3zrJBkoO"
      },
      "source": [
        "## Inputs"
      ]
    },
    {
      "cell_type": "code",
      "execution_count": 30,
      "metadata": {
        "id": "CWdAw_NcBkoQ"
      },
      "outputs": [],
      "source": [
        "x, nu, t = sp.symbols('x nu t')\n",
        "phi = (sp.exp(-(x - 4 * t)**2 / (4 * nu * (t + 1))) +\n",
        "       sp.exp(-(x - 4 * t - 2 * sp.pi)**2 / (4 * nu * (t + 1))))\n",
        "\n",
        "phiprime = phi.diff(x)\n",
        "u = -2 * nu * (phiprime / phi) + 4\n",
        "ufunc = lambdify((t, x, nu), u)\n",
        "\n",
        "###variable declarations\n",
        "nx = 201\n",
        "nt = 100\n",
        "dx = 2 * np.pi / (nx - 1)\n",
        "nu = .07\n",
        "dt = dx * nu\n",
        "\n",
        "x = np.linspace(0, 2 * np.pi, nx)\n",
        "un = np.empty(nx)\n",
        "t = 0"
      ]
    },
    {
      "cell_type": "markdown",
      "metadata": {
        "id": "I2vYWmxpBkoT"
      },
      "source": [
        "## Plot initial condition"
      ]
    },
    {
      "cell_type": "code",
      "execution_count": 31,
      "metadata": {
        "colab": {
          "base_uri": "https://localhost:8080/",
          "height": 269
        },
        "id": "AL4GRzjHBkoU",
        "outputId": "08bd2002-8840-4e9f-d0da-5a8dfbd1e535"
      },
      "outputs": [
        {
          "output_type": "display_data",
          "data": {
            "text/plain": [
              "<Figure size 432x288 with 1 Axes>"
            ],
            "image/png": "[encoded data removed]"
          },
          "metadata": {
            "needs_background": "light"
          }
        }
      ],
      "source": [
        "u = np.asarray([ufunc(t, x0, nu) for x0 in x])\n",
        "plt.figure()\n",
        "plt.plot(x, u, marker='o', lw=2)\n",
        "plt.xlim([0, 2 * np.pi])\n",
        "plt.ylim([0, 10]);\n",
        "\n",
        "# Analytical solution\n",
        "u_analytical = np.asarray([ufunc(nt * dt, xi, nu) for xi in x])"
      ]
    },
    {
      "cell_type": "code",
      "execution_count": 32,
      "metadata": {
        "colab": {
          "base_uri": "https://localhost:8080/",
          "height": 269
        },
        "id": "7hFjtPW1BkoX",
        "outputId": "0ef9a020-b88b-458d-ad0b-c251ebec4924"
      },
      "outputs": [
        {
          "output_type": "display_data",
          "data": {
            "text/plain": [
              "<Figure size 432x288 with 1 Axes>"
            ],
            "image/png": "[encoded data removed]"
          },
          "metadata": {
            "needs_background": "light"
          }
        }
      ],
      "source": [
        "solve_1d_burger_pure(u, un, nt, nx, dt, dx, nu)\n",
        "#Plotting data\n",
        "plt.figure()\n",
        "plt.plot(x,u, marker='o', lw=2, label='Computational')\n",
        "plt.plot(x, u_analytical, label='Analytical')\n",
        "plt.xlim([0, 2 * np.pi])\n",
        "plt.ylim([0, 10])\n",
        "plt.legend();"
      ]
    },
    {
      "cell_type": "markdown",
      "metadata": {
        "id": "KoA5POXkBkoZ"
      },
      "source": [
        "## Call Funtions"
      ]
    },
    {
      "cell_type": "markdown",
      "metadata": {
        "id": "euq2Spl8Bkoa"
      },
      "source": [
        "### Pure function"
      ]
    },
    {
      "cell_type": "code",
      "execution_count": 33,
      "metadata": {
        "colab": {
          "base_uri": "https://localhost:8080/"
        },
        "id": "VzDB_rNCBkob",
        "outputId": "758faba0-1b2a-4228-cadb-54738b8e288a"
      },
      "outputs": [
        {
          "output_type": "stream",
          "name": "stdout",
          "text": [
            "10 loops, best of 5: 42 ms per loop\n"
          ]
        }
      ],
      "source": [
        "%timeit solve_1d_burger_pure(u, un, nt, nx, dt, dx, nu)"
      ]
    },
    {
      "cell_type": "markdown",
      "metadata": {
        "id": "NPLlql5NBkod"
      },
      "source": [
        "### Function with numba accelerator"
      ]
    },
    {
      "cell_type": "code",
      "execution_count": 34,
      "metadata": {
        "colab": {
          "base_uri": "https://localhost:8080/"
        },
        "id": "WxUNN0qYBkof",
        "outputId": "f232271f-d71b-4b12-8164-6c661dfcb79a"
      },
      "outputs": [
        {
          "output_type": "stream",
          "name": "stdout",
          "text": [
            "The slowest run took 26927.32 times longer than the fastest. This could mean that an intermediate result is being cached.\n",
            "1 loop, best of 5: 13 µs per loop\n"
          ]
        }
      ],
      "source": [
        "%timeit solve_1d_burger_numba(u, un, nt, nx, dt, dx, nu)"
      ]
    },
    {
      "cell_type": "markdown",
      "metadata": {
        "id": "B0yNX2K0Bkog"
      },
      "source": [
        "### Function with pyccel accelerator"
      ]
    },
    {
      "cell_type": "code",
      "execution_count": 35,
      "metadata": {
        "colab": {
          "base_uri": "https://localhost:8080/"
        },
        "id": "7nZvmdKmBkoi",
        "outputId": "d29b1265-5cb1-4bc9-f5bb-5f21da852f22"
      },
      "outputs": [
        {
          "output_type": "stream",
          "name": "stdout",
          "text": [
            "10000 loops, best of 5: 37.8 µs per loop\n"
          ]
        }
      ],
      "source": [
        "solve_1d_burger_f90 = epyccel(solve_1d_burger_pyccel)\n",
        "%timeit solve_1d_burger_f90(u, un, nt, nx, dt, dx, nu)"
      ]
    }
  ],
  "metadata": {
    "kernelspec": {
      "display_name": "Python 3 (ipykernel)",
      "language": "python",
      "name": "python3"
    },
    "language_info": {
      "codemirror_mode": {
        "name": "ipython",
        "version": 3
      },
      "file_extension": ".py",
      "mimetype": "text/x-python",
      "name": "python",
      "nbconvert_exporter": "python",
      "pygments_lexer": "ipython3",
      "version": "3.9.12"
    },
    "colab": {
      "name": "1D_Burger_LHAMYANI.ipynb",
      "provenance": [],
      "collapsed_sections": []
    }
  },
  "nbformat": 4,
  "nbformat_minor": 0
}