{
  "cells": [
    {
      "cell_type": "markdown",
      "metadata": {
        "id": "lym7ywumQuv9"
      },
      "source": [
        "## Imports"
      ]
    },
    {
      "cell_type": "code",
      "source": [
        "pip install pyccel"
      ],
      "metadata": {
        "colab": {
          "base_uri": "https://localhost:8080/"
        },
        "id": "6ltid_vATIGJ",
        "outputId": "0cbfe65d-ff18-486b-fc71-52ed0971ba5b"
      },
      "execution_count": 33,
      "outputs": [
        {
          "output_type": "stream",
          "name": "stdout",
          "text": [
            "Looking in indexes: https://pypi.org/simple, https://us-python.pkg.dev/colab-wheels/public/simple/\n",
            "Requirement already satisfied: pyccel in /usr/local/lib/python3.7/dist-packages (1.5.2)\n",
            "Requirement already satisfied: textx>=2.2 in /usr/local/lib/python3.7/dist-packages (from pyccel) (3.0.0)\n",
            "Requirement already satisfied: termcolor in /usr/local/lib/python3.7/dist-packages (from pyccel) (1.1.0)\n",
            "Requirement already satisfied: sympy>=1.2 in /usr/local/lib/python3.7/dist-packages (from pyccel) (1.7.1)\n",
            "Requirement already satisfied: filelock in /usr/local/lib/python3.7/dist-packages (from pyccel) (3.7.1)\n",
            "Requirement already satisfied: numpy in /usr/local/lib/python3.7/dist-packages (from pyccel) (1.21.6)\n",
            "Requirement already satisfied: mpmath>=0.19 in /usr/local/lib/python3.7/dist-packages (from sympy>=1.2->pyccel) (1.2.1)\n",
            "Requirement already satisfied: future in /usr/local/lib/python3.7/dist-packages (from textx>=2.2->pyccel) (0.16.0)\n",
            "Requirement already satisfied: Arpeggio>=2.0.0 in /usr/local/lib/python3.7/dist-packages (from textx>=2.2->pyccel) (2.0.0)\n"
          ]
        }
      ]
    },
    {
      "cell_type": "code",
      "execution_count": 34,
      "metadata": {
        "id": "2UGstNSqQuwE"
      },
      "outputs": [],
      "source": [
        "import numpy as np\n",
        "import matplotlib.pyplot as plt\n",
        "import time\n",
        "from numba import njit\n",
        "from pyccel.decorators import types"
      ]
    },
    {
      "cell_type": "markdown",
      "metadata": {
        "id": "J8pAlu5UQuwG"
      },
      "source": [
        "## Pure python function"
      ]
    },
    {
      "cell_type": "code",
      "execution_count": 35,
      "metadata": {
        "id": "tzHv1BRWQuwH"
      },
      "outputs": [],
      "source": [
        "def solve_1d_nonlinearconv_pure(u, un, nt, nx, dt, dx):\n",
        "  #fill the update of u\n",
        "  for n in range(nt):  \n",
        "    for i in range(nx): \n",
        "      un[i] = u[i]\n",
        "    for i in range(1, nx): \n",
        "      u[i] = un[i] - un[i] * dt / dx * (un[i] - un[i-1])  \n",
        "  return 0"
      ]
    },
    {
      "cell_type": "markdown",
      "metadata": {
        "id": "xQEZD_VUQuwI"
      },
      "source": [
        "## Numba accelerator"
      ]
    },
    {
      "cell_type": "code",
      "execution_count": 36,
      "metadata": {
        "id": "ZUtD3TIHQuwI"
      },
      "outputs": [],
      "source": [
        "@njit(fastmath=True)\n",
        "def solve_1d_nonlinearconv_numba(u, un, nt, nx, dt, dx):\n",
        "  #fill the update of u\n",
        "  for n in range(nt):  \n",
        "    for i in range(nx):\n",
        "      un[i] = u[i]\n",
        "    for i in range(1, nx): \n",
        "      u[i] = un[i] - un[i] * dt / dx * (un[i] - un[i-1])\n",
        "  return 0"
      ]
    },
    {
      "cell_type": "markdown",
      "metadata": {
        "id": "1cU0h0fHQuwJ"
      },
      "source": [
        "## Pyccel accelerator"
      ]
    },
    {
      "cell_type": "code",
      "execution_count": 37,
      "metadata": {
        "id": "2AWKibUHQuwK"
      },
      "outputs": [],
      "source": [
        "@types('float[:]','float[:]', 'int', 'int', 'float', 'float')\n",
        "def solve_1d_nonlinearconv_pyccel(u, un, nt, nx, dt, dx):\n",
        "  #fill the update of u\n",
        "  for n in range(nt):  \n",
        "    for i in range(nx):\n",
        "      un[i] = u[i]\n",
        "    for i in range(1, nx): \n",
        "      u[i] = un[i] - un[i] * dt / dx * (un[i] - un[i-1])  \n",
        "  return 0"
      ]
    },
    {
      "cell_type": "markdown",
      "metadata": {
        "id": "5QIS59FyQuwL"
      },
      "source": [
        "## Inputs"
      ]
    },
    {
      "cell_type": "code",
      "execution_count": 38,
      "metadata": {
        "colab": {
          "base_uri": "https://localhost:8080/",
          "height": 312
        },
        "id": "E3yG8sD0QuwM",
        "outputId": "93d8a450-2f49-47c4-c3ff-3c5d0ff75ca3"
      },
      "outputs": [
        {
          "output_type": "execute_result",
          "data": {
            "text/plain": [
              "Text(0.5, 1.0, '1D Linear Convection')"
            ]
          },
          "metadata": {},
          "execution_count": 38
        },
        {
          "output_type": "display_data",
          "data": {
            "text/plain": [
              "<Figure size 432x288 with 1 Axes>"
            ],
            "image/png": "[encoded data removed]"
          },
          "metadata": {
            "needs_background": "light"
          }
        }
      ],
      "source": [
        "nx = 100  # try changing this number from 41 to 81 and Run All ... what happens?\n",
        "dx = 2 / (nx-1)\n",
        "nt = 200    #nt is the number of timesteps we want to calculate\n",
        "dt = 0.001\n",
        "grid = np.linspace(0,2,nx) # creating the space grid    \n",
        "\n",
        "u0 = np.ones(nx)      #numpy function ones()\n",
        "u0[int(.5 / dx):int(1 / dx + 1)] = 2  #setting u = 2 between 0.5 and 1 as per our I.C.s\n",
        "plt.plot(grid,u0)\n",
        "u = u0.copy()\n",
        "un = np.ones(nx)\n",
        "\n",
        "solve_1d_nonlinearconv_pure(u, un, nt, nx, dt, dx)\n",
        "#Plotting data\n",
        "plt.plot(grid,u);\n",
        "plt.ylim([1.,2.2])\n",
        "plt.xlabel('X')\n",
        "plt.ylabel('Velocity')    \n",
        "plt.title('1D Linear Convection')"
      ]
    },
    {
      "cell_type": "markdown",
      "metadata": {
        "id": "dfnHcobQQuwO"
      },
      "source": [
        "## Call Funtions"
      ]
    },
    {
      "cell_type": "markdown",
      "metadata": {
        "id": "bgEKzAjoQuwO"
      },
      "source": [
        "### Pure function"
      ]
    },
    {
      "cell_type": "code",
      "execution_count": 39,
      "metadata": {
        "colab": {
          "base_uri": "https://localhost:8080/"
        },
        "id": "aiP-uonHQuwP",
        "outputId": "daf45522-ff8d-4a37-bd65-87f31848e880"
      },
      "outputs": [
        {
          "output_type": "stream",
          "name": "stdout",
          "text": [
            "10 loops, best of 5: 22.1 ms per loop\n"
          ]
        }
      ],
      "source": [
        "%timeit solve_1d_nonlinearconv_pure(u, un, nt, nx, dt, dx)"
      ]
    },
    {
      "cell_type": "markdown",
      "metadata": {
        "id": "zrM9iar-QuwP"
      },
      "source": [
        "### Function with numba accelerator"
      ]
    },
    {
      "cell_type": "code",
      "execution_count": 40,
      "metadata": {
        "colab": {
          "base_uri": "https://localhost:8080/"
        },
        "id": "7DBQPkKBQuwQ",
        "outputId": "83293256-2b16-4631-a85d-b42134d23b9f"
      },
      "outputs": [
        {
          "output_type": "stream",
          "name": "stdout",
          "text": [
            "The slowest run took 61179.10 times longer than the fastest. This could mean that an intermediate result is being cached.\n",
            "1 loop, best of 5: 8.73 µs per loop\n"
          ]
        }
      ],
      "source": [
        "%timeit solve_1d_nonlinearconv_numba(u, un, nt, nx, dt, dx)"
      ]
    },
    {
      "cell_type": "markdown",
      "metadata": {
        "id": "ttDpBLm5QuwQ"
      },
      "source": [
        "### Function with pyccel accelerator"
      ]
    },
    {
      "cell_type": "code",
      "source": [
        "from pyccel.epyccel import epyccel\n"
      ],
      "metadata": {
        "id": "08V6gzFKVAnh"
      },
      "execution_count": 41,
      "outputs": []
    },
    {
      "cell_type": "code",
      "execution_count": 42,
      "metadata": {
        "id": "RMO2v7x8QuwR"
      },
      "outputs": [],
      "source": [
        "solve_1d_nonlinearconv_f90 = epyccel(solve_1d_nonlinearconv_pyccel)"
      ]
    },
    {
      "cell_type": "code",
      "execution_count": 43,
      "metadata": {
        "colab": {
          "base_uri": "https://localhost:8080/"
        },
        "id": "KaAquLIYQuwR",
        "outputId": "24f047dd-ad9b-49fd-f46a-96519386e5c0"
      },
      "outputs": [
        {
          "output_type": "stream",
          "name": "stdout",
          "text": [
            "10000 loops, best of 5: 26.9 µs per loop\n"
          ]
        }
      ],
      "source": [
        "%timeit solve_1d_nonlinearconv_f90(u, un, nt, nx, dt, dx)"
      ]
    }
  ],
  "metadata": {
    "kernelspec": {
      "display_name": "Python 3",
      "language": "python",
      "name": "python3"
    },
    "language_info": {
      "codemirror_mode": {
        "name": "ipython",
        "version": 3
      },
      "file_extension": ".py",
      "mimetype": "text/x-python",
      "name": "python",
      "nbconvert_exporter": "python",
      "pygments_lexer": "ipython3",
      "version": "3.7.4"
    },
    "colab": {
      "name": "1D_NonLinearConvection_LHAMYANI.ipynb",
      "provenance": [],
      "collapsed_sections": []
    }
  },
  "nbformat": 4,
  "nbformat_minor": 0
}