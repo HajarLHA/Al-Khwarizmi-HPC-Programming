{
  "cells": [
    {
      "cell_type": "markdown",
      "metadata": {
        "id": "uWyQgG90IrUv"
      },
      "source": [
        "## Imports"
      ]
    },
    {
      "cell_type": "code",
      "execution_count": 34,
      "metadata": {
        "id": "NcvFwDDoIrU2"
      },
      "outputs": [],
      "source": [
        "import numpy as np\n",
        "import matplotlib.pyplot as plt"
      ]
    },
    {
      "cell_type": "markdown",
      "metadata": {
        "id": "QWaxtoCrIrU3"
      },
      "source": [
        "## Linear convection without CFL"
      ]
    },
    {
      "cell_type": "code",
      "execution_count": 35,
      "metadata": {
        "id": "YzgTAyKFIrU4"
      },
      "outputs": [],
      "source": [
        "def linearconv_withoutCFL(u, nx, nt, dx):\n",
        "    dt = .025  \n",
        "    c = 1.\n",
        "    for n in range(nt):  \n",
        "      un = u.copy()\n",
        "      for i in range(1, nx):\n",
        "        u[i] = un[i] - c * dt / dx * (un[i] - un[i-1])\n",
        "    return 0"
      ]
    },
    {
      "cell_type": "markdown",
      "metadata": {
        "id": "BRGCEnbnIrU5"
      },
      "source": [
        "## Linear convection with CFL"
      ]
    },
    {
      "cell_type": "code",
      "execution_count": 36,
      "metadata": {
        "id": "Ybo-NNoDIrU5"
      },
      "outputs": [],
      "source": [
        "def linearconv_withCFL(u, nx, nt, dx):\n",
        "    c = 1.\n",
        "    CFL = 0.8\n",
        "    dt = CFL*dx/np.fabs(c) \n",
        "    for n in range(nt):\n",
        "      un = u.copy()\n",
        "      for i in range(1, nx):\n",
        "        u[i] = un[i] - c * dt / dx * (un[i] - un[i-1])\n",
        "        \n",
        "    return 0"
      ]
    },
    {
      "cell_type": "markdown",
      "metadata": {
        "id": "L7xf3mNVIrU6"
      },
      "source": [
        "## Inputs"
      ]
    },
    {
      "cell_type": "code",
      "execution_count": 37,
      "metadata": {
        "id": "UweM5RifIrU7"
      },
      "outputs": [],
      "source": [
        "nx = 99 #change to 83, 85, 91, ... what do you remark ?\n",
        "dx = 2 / (nx - 1)\n",
        "nt = 20    \n",
        "\n",
        "grid = np.linspace(0,2,nx) \n",
        "u0 = np.ones(nx)      \n",
        "u0[int(.5/dx):int(1 / dx + 1)] = 2  "
      ]
    },
    {
      "cell_type": "markdown",
      "metadata": {
        "id": "tTCTQ25jIrU8"
      },
      "source": [
        "## Call Funtions"
      ]
    },
    {
      "cell_type": "markdown",
      "metadata": {
        "id": "xfNFzUhUIrU9"
      },
      "source": [
        "### Function without CFL"
      ]
    },
    {
      "cell_type": "code",
      "execution_count": 38,
      "metadata": {
        "colab": {
          "base_uri": "https://localhost:8080/",
          "height": 312
        },
        "id": "n90uUF4PIrU9",
        "outputId": "011524af-055f-4b64-d25f-4d1e469cfb5f"
      },
      "outputs": [
        {
          "output_type": "execute_result",
          "data": {
            "text/plain": [
              "Text(0.5, 1.0, '1D Linear Convection')"
            ]
          },
          "metadata": {},
          "execution_count": 38
        },
        {
          "output_type": "display_data",
          "data": {
            "text/plain": [
              "<Figure size 432x288 with 1 Axes>"
            ],
            "image/png": "[encoded data removed]"
          },
          "metadata": {
            "needs_background": "light"
          }
        }
      ],
      "source": [
        "u = u0.copy()\n",
        "linearconv_withoutCFL(u, nx, nt, dx)\n",
        "plt.plot(grid,u0);\n",
        "plt.plot(grid,u);\n",
        "plt.ylim([1.,2.2])\n",
        "plt.xlabel('X')\n",
        "plt.ylabel('Velocity')    \n",
        "plt.title('1D Linear Convection')  "
      ]
    },
    {
      "cell_type": "markdown",
      "metadata": {
        "id": "LjEz-RddIrU-"
      },
      "source": [
        "### Function with CFL"
      ]
    },
    {
      "cell_type": "code",
      "execution_count": 39,
      "metadata": {
        "colab": {
          "base_uri": "https://localhost:8080/",
          "height": 312
        },
        "id": "xktJU5MZIrU_",
        "outputId": "c8bfa63a-708d-4de6-b39d-116639ae66c3"
      },
      "outputs": [
        {
          "output_type": "execute_result",
          "data": {
            "text/plain": [
              "Text(0.5, 1.0, '1D Linear Convection')"
            ]
          },
          "metadata": {},
          "execution_count": 39
        },
        {
          "output_type": "display_data",
          "data": {
            "text/plain": [
              "<Figure size 432x288 with 1 Axes>"
            ],
            "image/png": "[encoded data removed]"
          },
          "metadata": {
            "needs_background": "light"
          }
        }
      ],
      "source": [
        "u = u0.copy()\n",
        "linearconv_withCFL(u, nx, nt, dx)\n",
        "\n",
        "plt.plot(grid,u0);\n",
        "plt.plot(grid,u);\n",
        "plt.ylim([1.,2.2])\n",
        "plt.xlabel('X')\n",
        "plt.ylabel('Velocity')    \n",
        "plt.title('1D Linear Convection') "
      ]
    }
  ],
  "metadata": {
    "hide_input": false,
    "kernelspec": {
      "display_name": "Python 3 (ipykernel)",
      "language": "python",
      "name": "python3"
    },
    "language_info": {
      "codemirror_mode": {
        "name": "ipython",
        "version": 3
      },
      "file_extension": ".py",
      "mimetype": "text/x-python",
      "name": "python",
      "nbconvert_exporter": "python",
      "pygments_lexer": "ipython3",
      "version": "3.9.12"
    },
    "colab": {
      "name": "1D_LinearConvectionCFL_LHAMYANI.ipynb",
      "provenance": [],
      "collapsed_sections": []
    }
  },
  "nbformat": 4,
  "nbformat_minor": 0
}